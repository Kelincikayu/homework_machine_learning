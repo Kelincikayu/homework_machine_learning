{
 "cells": [
  {
   "cell_type": "code",
   "execution_count": 134,
   "id": "dfa7bd06-3e5b-44e6-9b7b-6d9badb1db7b",
   "metadata": {},
   "outputs": [],
   "source": [
    "import time\n",
    "import pickle\n",
    "import pandas as pd\n",
    "from sklearn.linear_model import LogisticRegression\n",
    "from sklearn.model_selection import train_test_split\n",
    "from sklearn.metrics import classification_report\n",
    "from sklearn.preprocessing import StandardScaler"
   ]
  },
  {
   "cell_type": "code",
   "execution_count": 135,
   "id": "ff808941-dd00-43dd-8301-cef83052367c",
   "metadata": {},
   "outputs": [],
   "source": [
    "data = pd.read_csv('Prediction Insurance.csv')"
   ]
  },
  {
   "cell_type": "code",
   "execution_count": 136,
   "id": "c8f62104-20a5-43e6-8f3f-781627a1147b",
   "metadata": {},
   "outputs": [
    {
     "data": {
      "text/html": [
       "<div>\n",
       "<style scoped>\n",
       "    .dataframe tbody tr th:only-of-type {\n",
       "        vertical-align: middle;\n",
       "    }\n",
       "\n",
       "    .dataframe tbody tr th {\n",
       "        vertical-align: top;\n",
       "    }\n",
       "\n",
       "    .dataframe thead th {\n",
       "        text-align: right;\n",
       "    }\n",
       "</style>\n",
       "<table border=\"1\" class=\"dataframe\">\n",
       "  <thead>\n",
       "    <tr style=\"text-align: right;\">\n",
       "      <th></th>\n",
       "      <th>id</th>\n",
       "      <th>Gender</th>\n",
       "      <th>Age</th>\n",
       "      <th>Driving_License</th>\n",
       "      <th>Region_Code</th>\n",
       "      <th>Previously_Insured</th>\n",
       "      <th>Vehicle_Age</th>\n",
       "      <th>Vehicle_Damage</th>\n",
       "      <th>Annual_Premium</th>\n",
       "      <th>Policy_Sales_Channel</th>\n",
       "      <th>Vintage</th>\n",
       "      <th>Response</th>\n",
       "    </tr>\n",
       "  </thead>\n",
       "  <tbody>\n",
       "    <tr>\n",
       "      <th>0</th>\n",
       "      <td>1</td>\n",
       "      <td>Male</td>\n",
       "      <td>44</td>\n",
       "      <td>1</td>\n",
       "      <td>28</td>\n",
       "      <td>0</td>\n",
       "      <td>&gt; 2 Years</td>\n",
       "      <td>Yes</td>\n",
       "      <td>40454</td>\n",
       "      <td>26</td>\n",
       "      <td>217</td>\n",
       "      <td>1</td>\n",
       "    </tr>\n",
       "  </tbody>\n",
       "</table>\n",
       "</div>"
      ],
      "text/plain": [
       "   id Gender  Age  Driving_License  Region_Code  Previously_Insured  \\\n",
       "0   1   Male   44                1           28                   0   \n",
       "\n",
       "  Vehicle_Age Vehicle_Damage  Annual_Premium  Policy_Sales_Channel  Vintage  \\\n",
       "0   > 2 Years            Yes           40454                    26      217   \n",
       "\n",
       "   Response  \n",
       "0         1  "
      ]
     },
     "execution_count": 136,
     "metadata": {},
     "output_type": "execute_result"
    }
   ],
   "source": [
    "data.head(1)"
   ]
  },
  {
   "cell_type": "code",
   "execution_count": 137,
   "id": "02385094-5312-4841-957b-633e2d4ad445",
   "metadata": {},
   "outputs": [
    {
     "data": {
      "text/plain": [
       "array([28,  3, 11, 41, 33,  6, 35, 50, 15, 45,  8, 36, 30, 26, 16, 47, 48,\n",
       "       19, 39, 23, 37,  5, 17,  2,  7, 29, 46, 27, 25, 13, 18, 20, 49, 22,\n",
       "       44,  0,  9, 31, 12, 34, 21, 10, 14, 38, 24, 40, 43, 32,  4, 51, 42,\n",
       "        1, 52], dtype=int64)"
      ]
     },
     "execution_count": 137,
     "metadata": {},
     "output_type": "execute_result"
    }
   ],
   "source": [
    "data['Region_Code'].unique()"
   ]
  },
  {
   "cell_type": "code",
   "execution_count": 138,
   "id": "f2bcac7e-ee97-4826-9bc7-ca56a61c6fda",
   "metadata": {},
   "outputs": [],
   "source": [
    "#data preprocessing\n",
    "data = data.drop('id', axis=1)\n",
    "data['Gender'] = data['Gender'].map({'Male':1, 'Female':0})\n",
    "data['Vehicle_Damage'] = data['Vehicle_Damage'].map({'Yes':1, 'No':0})"
   ]
  },
  {
   "cell_type": "code",
   "execution_count": 139,
   "id": "7379f9e7-daa5-4d11-9c82-8bced78a223e",
   "metadata": {},
   "outputs": [],
   "source": [
    "df_region = pd.get_dummies(data['Region_Code'])"
   ]
  },
  {
   "cell_type": "code",
   "execution_count": 140,
   "id": "07db3cd4-1765-4e94-8b85-a031d8cc15cf",
   "metadata": {},
   "outputs": [],
   "source": [
    "df_3 = data[['Gender','Age','Driving_License','Vehicle_Damage','Response']].merge(df_region, left_index=True, right_index=True)"
   ]
  },
  {
   "cell_type": "code",
   "execution_count": 141,
   "id": "06892bc5-6572-48fd-ae57-77aecaaaa4f3",
   "metadata": {},
   "outputs": [],
   "source": [
    "df_3.columns = df_3.columns.astype(str)"
   ]
  },
  {
   "cell_type": "code",
   "execution_count": 142,
   "id": "8fcdbdd0-30e0-43c7-97df-9b100eab3794",
   "metadata": {},
   "outputs": [
    {
     "data": {
      "text/html": [
       "<div>\n",
       "<style scoped>\n",
       "    .dataframe tbody tr th:only-of-type {\n",
       "        vertical-align: middle;\n",
       "    }\n",
       "\n",
       "    .dataframe tbody tr th {\n",
       "        vertical-align: top;\n",
       "    }\n",
       "\n",
       "    .dataframe thead th {\n",
       "        text-align: right;\n",
       "    }\n",
       "</style>\n",
       "<table border=\"1\" class=\"dataframe\">\n",
       "  <thead>\n",
       "    <tr style=\"text-align: right;\">\n",
       "      <th></th>\n",
       "      <th>Gender</th>\n",
       "      <th>Age</th>\n",
       "      <th>Driving_License</th>\n",
       "      <th>Vehicle_Damage</th>\n",
       "      <th>Response</th>\n",
       "      <th>0</th>\n",
       "      <th>1</th>\n",
       "      <th>2</th>\n",
       "      <th>3</th>\n",
       "      <th>4</th>\n",
       "      <th>...</th>\n",
       "      <th>43</th>\n",
       "      <th>44</th>\n",
       "      <th>45</th>\n",
       "      <th>46</th>\n",
       "      <th>47</th>\n",
       "      <th>48</th>\n",
       "      <th>49</th>\n",
       "      <th>50</th>\n",
       "      <th>51</th>\n",
       "      <th>52</th>\n",
       "    </tr>\n",
       "  </thead>\n",
       "  <tbody>\n",
       "    <tr>\n",
       "      <th>0</th>\n",
       "      <td>1</td>\n",
       "      <td>44</td>\n",
       "      <td>1</td>\n",
       "      <td>1</td>\n",
       "      <td>1</td>\n",
       "      <td>False</td>\n",
       "      <td>False</td>\n",
       "      <td>False</td>\n",
       "      <td>False</td>\n",
       "      <td>False</td>\n",
       "      <td>...</td>\n",
       "      <td>False</td>\n",
       "      <td>False</td>\n",
       "      <td>False</td>\n",
       "      <td>False</td>\n",
       "      <td>False</td>\n",
       "      <td>False</td>\n",
       "      <td>False</td>\n",
       "      <td>False</td>\n",
       "      <td>False</td>\n",
       "      <td>False</td>\n",
       "    </tr>\n",
       "  </tbody>\n",
       "</table>\n",
       "<p>1 rows × 58 columns</p>\n",
       "</div>"
      ],
      "text/plain": [
       "   Gender  Age  Driving_License  Vehicle_Damage  Response      0      1  \\\n",
       "0       1   44                1               1         1  False  False   \n",
       "\n",
       "       2      3      4  ...     43     44     45     46     47     48     49  \\\n",
       "0  False  False  False  ...  False  False  False  False  False  False  False   \n",
       "\n",
       "      50     51     52  \n",
       "0  False  False  False  \n",
       "\n",
       "[1 rows x 58 columns]"
      ]
     },
     "execution_count": 142,
     "metadata": {},
     "output_type": "execute_result"
    }
   ],
   "source": [
    "df_3.head(1)"
   ]
  },
  {
   "cell_type": "code",
   "execution_count": 143,
   "id": "5c5792e2-a6ad-4c83-b184-74b24f235c37",
   "metadata": {},
   "outputs": [],
   "source": [
    "#data modelling using Logistic Regression Balanced Weight\n",
    "x = df_3.drop('Response', axis=1)\n",
    "y = df_3['Response']\n",
    "x_train, x_test, y_train, y_test = train_test_split(x,y, test_size=0.2, random_state=0)"
   ]
  },
  {
   "cell_type": "code",
   "execution_count": 144,
   "id": "cfb241aa-0736-433c-bcde-9d50b1b51c34",
   "metadata": {},
   "outputs": [
    {
     "name": "stdout",
     "output_type": "stream",
     "text": [
      "Training Time 1.4960012435913086 seconds\n"
     ]
    }
   ],
   "source": [
    "start = time.time()\n",
    "model = LogisticRegression(solver='liblinear', class_weight='balanced')\n",
    "model.fit(x_train, y_train)\n",
    "stop = time.time()\n",
    "print(f\"Training Time {stop-start} seconds\")"
   ]
  },
  {
   "cell_type": "code",
   "execution_count": 145,
   "id": "2671d982-5327-4e3c-9eae-a3997bfa3b07",
   "metadata": {},
   "outputs": [
    {
     "name": "stdout",
     "output_type": "stream",
     "text": [
      "              precision    recall  f1-score   support\n",
      "\n",
      "           0       0.57      0.99      0.72     38104\n",
      "           1       0.98      0.24      0.39     38118\n",
      "\n",
      "    accuracy                           0.62     76222\n",
      "   macro avg       0.77      0.62      0.55     76222\n",
      "weighted avg       0.77      0.62      0.55     76222\n",
      "\n"
     ]
    }
   ],
   "source": [
    "y_predict = model.predict(x_test)\n",
    "print(classification_report(y_predict, y_test))"
   ]
  },
  {
   "cell_type": "code",
   "execution_count": 146,
   "id": "760d5828-0432-47b0-aab3-87036278339b",
   "metadata": {},
   "outputs": [
    {
     "name": "stdout",
     "output_type": "stream",
     "text": [
      "Response\n",
      "0    267553\n",
      "1     37334\n",
      "Name: count, dtype: int64\n"
     ]
    }
   ],
   "source": [
    "print(y_train.value_counts())\n"
   ]
  },
  {
   "cell_type": "code",
   "execution_count": 147,
   "id": "e8d2141a-c549-40f6-8b62-bde7aae0e65a",
   "metadata": {},
   "outputs": [],
   "source": [
    "with open('model_logistic_reg_balance.pkl','wb') as file:\n",
    "    pickle.dump(model, file)"
   ]
  },
  {
   "cell_type": "code",
   "execution_count": null,
   "id": "eef6761d-a89b-4491-b18f-5d8b23332198",
   "metadata": {},
   "outputs": [],
   "source": []
  }
 ],
 "metadata": {
  "kernelspec": {
   "display_name": "Python 3 (ipykernel)",
   "language": "python",
   "name": "python3"
  },
  "language_info": {
   "codemirror_mode": {
    "name": "ipython",
    "version": 3
   },
   "file_extension": ".py",
   "mimetype": "text/x-python",
   "name": "python",
   "nbconvert_exporter": "python",
   "pygments_lexer": "ipython3",
   "version": "3.12.4"
  }
 },
 "nbformat": 4,
 "nbformat_minor": 5
}
