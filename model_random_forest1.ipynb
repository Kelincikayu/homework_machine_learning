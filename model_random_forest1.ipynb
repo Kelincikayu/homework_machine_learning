{
 "cells": [
  {
   "cell_type": "code",
   "execution_count": 18,
   "id": "b4708b3e-4f3d-4886-813a-8924845cd3f3",
   "metadata": {},
   "outputs": [],
   "source": [
    "import time\n",
    "import pickle\n",
    "import pandas as pd"
   ]
  },
  {
   "cell_type": "code",
   "execution_count": 19,
   "id": "26bb5029-c3ed-401c-8b94-511b6ff390f6",
   "metadata": {},
   "outputs": [],
   "source": [
    "from sklearn.ensemble import RandomForestClassifier"
   ]
  },
  {
   "cell_type": "code",
   "execution_count": 20,
   "id": "cc8d93f4-ef50-420a-8085-1163b7dd925b",
   "metadata": {},
   "outputs": [],
   "source": [
    "from sklearn.model_selection import train_test_split\n",
    "from sklearn.metrics import classification_report"
   ]
  },
  {
   "cell_type": "code",
   "execution_count": 21,
   "id": "504e6368-5d8a-4c1c-957e-1820d88c4d77",
   "metadata": {},
   "outputs": [],
   "source": [
    "data = pd.read_csv('Prediction Insurance.csv')"
   ]
  },
  {
   "cell_type": "code",
   "execution_count": 22,
   "id": "dccc7ebb-490c-4fcd-9257-e7c5832dbf89",
   "metadata": {},
   "outputs": [
    {
     "data": {
      "text/html": [
       "<div>\n",
       "<style scoped>\n",
       "    .dataframe tbody tr th:only-of-type {\n",
       "        vertical-align: middle;\n",
       "    }\n",
       "\n",
       "    .dataframe tbody tr th {\n",
       "        vertical-align: top;\n",
       "    }\n",
       "\n",
       "    .dataframe thead th {\n",
       "        text-align: right;\n",
       "    }\n",
       "</style>\n",
       "<table border=\"1\" class=\"dataframe\">\n",
       "  <thead>\n",
       "    <tr style=\"text-align: right;\">\n",
       "      <th></th>\n",
       "      <th>id</th>\n",
       "      <th>Gender</th>\n",
       "      <th>Age</th>\n",
       "      <th>Driving_License</th>\n",
       "      <th>Region_Code</th>\n",
       "      <th>Previously_Insured</th>\n",
       "      <th>Vehicle_Age</th>\n",
       "      <th>Vehicle_Damage</th>\n",
       "      <th>Annual_Premium</th>\n",
       "      <th>Policy_Sales_Channel</th>\n",
       "      <th>Vintage</th>\n",
       "      <th>Response</th>\n",
       "    </tr>\n",
       "  </thead>\n",
       "  <tbody>\n",
       "    <tr>\n",
       "      <th>0</th>\n",
       "      <td>1</td>\n",
       "      <td>Male</td>\n",
       "      <td>44</td>\n",
       "      <td>1</td>\n",
       "      <td>28</td>\n",
       "      <td>0</td>\n",
       "      <td>&gt; 2 Years</td>\n",
       "      <td>Yes</td>\n",
       "      <td>40454</td>\n",
       "      <td>26</td>\n",
       "      <td>217</td>\n",
       "      <td>1</td>\n",
       "    </tr>\n",
       "  </tbody>\n",
       "</table>\n",
       "</div>"
      ],
      "text/plain": [
       "   id Gender  Age  Driving_License  Region_Code  Previously_Insured  \\\n",
       "0   1   Male   44                1           28                   0   \n",
       "\n",
       "  Vehicle_Age Vehicle_Damage  Annual_Premium  Policy_Sales_Channel  Vintage  \\\n",
       "0   > 2 Years            Yes           40454                    26      217   \n",
       "\n",
       "   Response  \n",
       "0         1  "
      ]
     },
     "execution_count": 22,
     "metadata": {},
     "output_type": "execute_result"
    }
   ],
   "source": [
    "data.head(1)"
   ]
  },
  {
   "cell_type": "code",
   "execution_count": 23,
   "id": "13d2e63e-0673-4dbc-80cf-6707f011daab",
   "metadata": {},
   "outputs": [],
   "source": [
    "#data preprocessing\n",
    "data = data.drop('id', axis=1)"
   ]
  },
  {
   "cell_type": "code",
   "execution_count": 24,
   "id": "7e6e0172-8657-4815-97b1-859939f6d7fd",
   "metadata": {},
   "outputs": [],
   "source": [
    "data['Gender'] = data['Gender'].map({'Male':1, 'Female':0})"
   ]
  },
  {
   "cell_type": "code",
   "execution_count": 25,
   "id": "7e1437cc-6dd8-4031-af8a-25526a4677f0",
   "metadata": {},
   "outputs": [],
   "source": [
    "data['Vehicle_Damage'] = data['Vehicle_Damage'].map({'Yes':1, 'No':0})"
   ]
  },
  {
   "cell_type": "code",
   "execution_count": 26,
   "id": "04506b77-22c0-4a7f-8ee6-7dfa03b97de7",
   "metadata": {},
   "outputs": [],
   "source": [
    "df_region = pd.get_dummies(data['Region_Code'])"
   ]
  },
  {
   "cell_type": "code",
   "execution_count": 27,
   "id": "07b7cdd7-d66f-4b50-8e79-7ccd4ce1a179",
   "metadata": {},
   "outputs": [],
   "source": [
    "df_2 = data[['Gender','Age','Driving_License', 'Vehicle_Damage', 'Previously_Insured','Response']].merge(df_region, left_index=True, right_index=True)"
   ]
  },
  {
   "cell_type": "code",
   "execution_count": 28,
   "id": "c65ec1b5-1a51-4d46-89b7-dca2d717c3f1",
   "metadata": {},
   "outputs": [],
   "source": [
    "df_2.columns = df_2.columns.astype(str)"
   ]
  },
  {
   "cell_type": "code",
   "execution_count": 29,
   "id": "32f661c2-4e11-4746-b4b9-b61af659c1ca",
   "metadata": {},
   "outputs": [
    {
     "name": "stdout",
     "output_type": "stream",
     "text": [
      "<class 'pandas.core.frame.DataFrame'>\n",
      "RangeIndex: 381109 entries, 0 to 381108\n",
      "Data columns (total 59 columns):\n",
      " #   Column              Non-Null Count   Dtype\n",
      "---  ------              --------------   -----\n",
      " 0   Gender              381109 non-null  int64\n",
      " 1   Age                 381109 non-null  int64\n",
      " 2   Driving_License     381109 non-null  int64\n",
      " 3   Vehicle_Damage      381109 non-null  int64\n",
      " 4   Previously_Insured  381109 non-null  int64\n",
      " 5   Response            381109 non-null  int64\n",
      " 6   0                   381109 non-null  bool \n",
      " 7   1                   381109 non-null  bool \n",
      " 8   2                   381109 non-null  bool \n",
      " 9   3                   381109 non-null  bool \n",
      " 10  4                   381109 non-null  bool \n",
      " 11  5                   381109 non-null  bool \n",
      " 12  6                   381109 non-null  bool \n",
      " 13  7                   381109 non-null  bool \n",
      " 14  8                   381109 non-null  bool \n",
      " 15  9                   381109 non-null  bool \n",
      " 16  10                  381109 non-null  bool \n",
      " 17  11                  381109 non-null  bool \n",
      " 18  12                  381109 non-null  bool \n",
      " 19  13                  381109 non-null  bool \n",
      " 20  14                  381109 non-null  bool \n",
      " 21  15                  381109 non-null  bool \n",
      " 22  16                  381109 non-null  bool \n",
      " 23  17                  381109 non-null  bool \n",
      " 24  18                  381109 non-null  bool \n",
      " 25  19                  381109 non-null  bool \n",
      " 26  20                  381109 non-null  bool \n",
      " 27  21                  381109 non-null  bool \n",
      " 28  22                  381109 non-null  bool \n",
      " 29  23                  381109 non-null  bool \n",
      " 30  24                  381109 non-null  bool \n",
      " 31  25                  381109 non-null  bool \n",
      " 32  26                  381109 non-null  bool \n",
      " 33  27                  381109 non-null  bool \n",
      " 34  28                  381109 non-null  bool \n",
      " 35  29                  381109 non-null  bool \n",
      " 36  30                  381109 non-null  bool \n",
      " 37  31                  381109 non-null  bool \n",
      " 38  32                  381109 non-null  bool \n",
      " 39  33                  381109 non-null  bool \n",
      " 40  34                  381109 non-null  bool \n",
      " 41  35                  381109 non-null  bool \n",
      " 42  36                  381109 non-null  bool \n",
      " 43  37                  381109 non-null  bool \n",
      " 44  38                  381109 non-null  bool \n",
      " 45  39                  381109 non-null  bool \n",
      " 46  40                  381109 non-null  bool \n",
      " 47  41                  381109 non-null  bool \n",
      " 48  42                  381109 non-null  bool \n",
      " 49  43                  381109 non-null  bool \n",
      " 50  44                  381109 non-null  bool \n",
      " 51  45                  381109 non-null  bool \n",
      " 52  46                  381109 non-null  bool \n",
      " 53  47                  381109 non-null  bool \n",
      " 54  48                  381109 non-null  bool \n",
      " 55  49                  381109 non-null  bool \n",
      " 56  50                  381109 non-null  bool \n",
      " 57  51                  381109 non-null  bool \n",
      " 58  52                  381109 non-null  bool \n",
      "dtypes: bool(53), int64(6)\n",
      "memory usage: 36.7 MB\n"
     ]
    }
   ],
   "source": [
    "df_2.info()"
   ]
  },
  {
   "cell_type": "code",
   "execution_count": 30,
   "id": "ffa3bd35-361f-444e-9a2b-d4ccfb25ea09",
   "metadata": {},
   "outputs": [],
   "source": [
    "#data modelling using Random Forest\n",
    "x = df_2.drop('Response', axis=1)\n",
    "y = df_2['Response']\n",
    "x_train, x_test, y_train, y_test = train_test_split(x,y, test_size=0.2, random_state=0)"
   ]
  },
  {
   "cell_type": "code",
   "execution_count": 31,
   "id": "8fa08e70-4f4c-4d68-bfa0-a088e2ec0e06",
   "metadata": {},
   "outputs": [],
   "source": [
    "start = time.time()\n",
    "model = RandomForestClassifier(n_estimators=100, random_state=0)"
   ]
  },
  {
   "cell_type": "code",
   "execution_count": 32,
   "id": "cfd555e4-a97b-40bb-8019-e0c75d8c7a9c",
   "metadata": {},
   "outputs": [
    {
     "name": "stdout",
     "output_type": "stream",
     "text": [
      "Training Time 46.92588186264038 second\n"
     ]
    }
   ],
   "source": [
    "model.fit(x_train, y_train)\n",
    "stop = time.time()\n",
    "print(f\"Training Time {stop-start} second\")"
   ]
  },
  {
   "cell_type": "code",
   "execution_count": null,
   "id": "031703c8-e6d0-4b4e-afba-221abb165c38",
   "metadata": {},
   "outputs": [],
   "source": [
    "#model evaluation"
   ]
  },
  {
   "cell_type": "code",
   "execution_count": 33,
   "id": "c0e2765f-c76d-4541-9e49-35f8f4db535c",
   "metadata": {},
   "outputs": [
    {
     "name": "stdout",
     "output_type": "stream",
     "text": [
      "              precision    recall  f1-score   support\n",
      "\n",
      "           0       0.99      0.88      0.93     75362\n",
      "           1       0.03      0.29      0.05       860\n",
      "\n",
      "    accuracy                           0.87     76222\n",
      "   macro avg       0.51      0.58      0.49     76222\n",
      "weighted avg       0.98      0.87      0.92     76222\n",
      "\n"
     ]
    }
   ],
   "source": [
    "y_predict = model.predict(x_test)\n",
    "print(classification_report(y_predict, y_test))"
   ]
  },
  {
   "cell_type": "code",
   "execution_count": 35,
   "id": "913f6553-a491-426f-bd85-15ec60e3e96c",
   "metadata": {},
   "outputs": [],
   "source": [
    "import pickle\n",
    "import gzip"
   ]
  },
  {
   "cell_type": "code",
   "execution_count": 36,
   "id": "35eaae63-6ee9-4327-98e4-ac2fa6371846",
   "metadata": {},
   "outputs": [],
   "source": [
    "with open('model_random_forest1.pkl','rb') as f_in:\n",
    "    with gzip.open('model_random_forest1.pkl.gz','wb') as f_out:\n",
    "        f_out.writelines(f_in)"
   ]
  },
  {
   "cell_type": "code",
   "execution_count": null,
   "id": "ef343476-504f-4e1d-93fd-25166d600c40",
   "metadata": {},
   "outputs": [],
   "source": []
  }
 ],
 "metadata": {
  "kernelspec": {
   "display_name": "Python 3 (ipykernel)",
   "language": "python",
   "name": "python3"
  },
  "language_info": {
   "codemirror_mode": {
    "name": "ipython",
    "version": 3
   },
   "file_extension": ".py",
   "mimetype": "text/x-python",
   "name": "python",
   "nbconvert_exporter": "python",
   "pygments_lexer": "ipython3",
   "version": "3.12.4"
  }
 },
 "nbformat": 4,
 "nbformat_minor": 5
}
